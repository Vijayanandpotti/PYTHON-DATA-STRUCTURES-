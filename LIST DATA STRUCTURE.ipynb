{
 "cells": [
  {
   "cell_type": "markdown",
   "id": "437223e7-ab96-46b5-8236-28f0ecc9c1e3",
   "metadata": {},
   "source": [
    "# PYTHON CLASS 26-10-2024"
   ]
  },
  {
   "cell_type": "markdown",
   "id": "4c03428f-be33-4c26-9483-c91131f6b7fa",
   "metadata": {},
   "source": [
    "# DATA TYPE vs  DATA STRUCTURE vs  MATRIX"
   ]
  },
  {
   "cell_type": "code",
   "execution_count": null,
   "id": "c24b8c62-0824-4998-ab31-8d7e631d0aaf",
   "metadata": {},
   "outputs": [],
   "source": [
    "1. Collection of DATA STRUCTURE is known as MATRIX \n",
    "\n",
    "2. Collection of DATA TYPE is known as DATA STRUCTUE\n",
    "\n",
    "3. The variable which has more  than one value is called as DATA STRUCTURE \n",
    "   For Example: b = 1,2,3,4,\n",
    "\n",
    "4. The Variable which has only one value is called DATA TYPE."
   ]
  },
  {
   "cell_type": "markdown",
   "id": "3e16146c-3523-40e4-87d2-9cd09d898916",
   "metadata": {},
   "source": [
    "# PYTHON DATA STRUCTURE "
   ]
  },
  {
   "cell_type": "code",
   "execution_count": null,
   "id": "9b1c3bb0-20fd-43a0-800d-9a256445ff64",
   "metadata": {},
   "outputs": [],
   "source": [
    "The following are the Python Data Structure of two types\n",
    "\n",
    "A. PRIMITIVE                                   B.NON-PRIMITIVE (BUILT-IN)\n",
    "     ||                                                 ||\n",
    "  1. FLOAT                                              1. LIST\n",
    "  2. INTEGER                                            2. TUPLE\n",
    "  3.  STRING                                            3. SET\n",
    "  4. BOLLEAN                                            4. DICT (Dictionary)\n",
    "  5. COMPLEX\n",
    "\n"
   ]
  },
  {
   "cell_type": "markdown",
   "id": "659812cf-ea87-46bc-86cc-c463a7505116",
   "metadata": {},
   "source": [
    "# LIST DATA STRUCTURE\n"
   ]
  },
  {
   "cell_type": "raw",
   "id": "8e601a9e-1f6c-4777-95ba-2ec74863b514",
   "metadata": {},
   "source": [
    "APPEND FUNCTION"
   ]
  },
  {
   "cell_type": "code",
   "execution_count": null,
   "id": "d8633c25-1986-4524-acf2-d937275d2adb",
   "metadata": {},
   "outputs": [],
   "source": [
    "1.List Data structure is always defined with square backets [  ]\n",
    "2. Only in built function fucntions no other function will wroks"
   ]
  },
  {
   "cell_type": "code",
   "execution_count": 1,
   "id": "31540ae0-a3c1-4f87-8fcb-b5f0800bc055",
   "metadata": {},
   "outputs": [
    {
     "data": {
      "text/plain": [
       "[]"
      ]
     },
     "execution_count": 1,
     "metadata": {},
     "output_type": "execute_result"
    }
   ],
   "source": [
    "l = [ ]\n",
    "l"
   ]
  },
  {
   "cell_type": "code",
   "execution_count": 3,
   "id": "b0f9e897-3980-4c41-b2eb-c0f874957b5b",
   "metadata": {},
   "outputs": [
    {
     "data": {
      "text/plain": [
       "list"
      ]
     },
     "execution_count": 3,
     "metadata": {},
     "output_type": "execute_result"
    }
   ],
   "source": [
    "type(l)"
   ]
  },
  {
   "cell_type": "code",
   "execution_count": null,
   "id": "e794f7af-6002-4095-bbc2-609f1957a447",
   "metadata": {},
   "outputs": [],
   "source": [
    "There is no value in the brackets that is why the output is showing as empty."
   ]
  },
  {
   "cell_type": "code",
   "execution_count": 4,
   "id": "7c6278c6-51d0-4ab2-ac3d-2fa37abbbb93",
   "metadata": {},
   "outputs": [
    {
     "data": {
      "text/plain": [
       "[10]"
      ]
     },
     "execution_count": 4,
     "metadata": {},
     "output_type": "execute_result"
    }
   ],
   "source": [
    "l.append(10)\n",
    "l"
   ]
  },
  {
   "cell_type": "code",
   "execution_count": null,
   "id": "6c3a2868-aec6-4365-90e4-5f126def64b8",
   "metadata": {},
   "outputs": [],
   "source": [
    "1. In the earlier code l was showing as empty bracket [ ]\n",
    "\n",
    "2. To fill in the bracket we enter variable name which is l and then enter dot. and hit the tab button\n",
    "\n",
    "3. After you hit the tab button you will see buit-in options\n",
    "\n",
    "4. Choose append from the option which means to add the value in the bracket\n",
    "\n",
    "5. If you put the cursur on append and press shift+tab\n",
    "   you can see its information.\n",
    "\n",
    "6. Whatever value we enter in append it will first in order. \n",
    "   For example: If you enter value ten first and twenty \n",
    "   the output shows 10 as first and 20 as second"
   ]
  },
  {
   "cell_type": "code",
   "execution_count": 6,
   "id": "b283c867-b387-4328-a84b-b7c4cb36452d",
   "metadata": {},
   "outputs": [
    {
     "data": {
      "text/plain": [
       "[10, 20, 30]"
      ]
     },
     "execution_count": 6,
     "metadata": {},
     "output_type": "execute_result"
    }
   ],
   "source": [
    "l.append(20)\n",
    "l.append(30)\n",
    "l"
   ]
  },
  {
   "cell_type": "code",
   "execution_count": 7,
   "id": "295d3878-7f84-4db9-b8f9-2635cf47aecc",
   "metadata": {},
   "outputs": [
    {
     "ename": "TypeError",
     "evalue": "list.append() takes exactly one argument (4 given)",
     "output_type": "error",
     "traceback": [
      "\u001b[1;31m---------------------------------------------------------------------------\u001b[0m",
      "\u001b[1;31mTypeError\u001b[0m                                 Traceback (most recent call last)",
      "Cell \u001b[1;32mIn[7], line 1\u001b[0m\n\u001b[1;32m----> 1\u001b[0m l\u001b[38;5;241m.\u001b[39mappend(\u001b[38;5;241m20\u001b[39m,\u001b[38;5;241m30\u001b[39m,\u001b[38;5;241m40\u001b[39m,\u001b[38;5;241m50\u001b[39m)\n\u001b[0;32m      2\u001b[0m l\n",
      "\u001b[1;31mTypeError\u001b[0m: list.append() takes exactly one argument (4 given)"
     ]
    }
   ],
   "source": [
    "l.append(20,30,40,50)\n",
    "l"
   ]
  },
  {
   "cell_type": "code",
   "execution_count": null,
   "id": "ae0bb160-c8c6-4862-9632-69cf0d6a9868",
   "metadata": {},
   "outputs": [],
   "source": [
    "1. We cannot write all the values for onr variable at once \n",
    "   as you get error like above\n",
    "\n",
    "2. Though a data structure can have more than one value but \n",
    "   that has to be written seperatley \n"
   ]
  },
  {
   "cell_type": "code",
   "execution_count": 8,
   "id": "9ba462ec-ddef-422e-8be9-da284c82a3fe",
   "metadata": {},
   "outputs": [
    {
     "data": {
      "text/plain": [
       "[10, 20, 30, 2.3, (1+2j), True, 'nit']"
      ]
     },
     "execution_count": 8,
     "metadata": {},
     "output_type": "execute_result"
    }
   ],
   "source": [
    "l.append(2.3)\n",
    "l.append(1+2j)\n",
    "l.append(True)\n",
    "l.append('nit')\n",
    "l"
   ]
  },
  {
   "cell_type": "raw",
   "id": "864686ba-ea22-44b9-880e-3de7b004d10d",
   "metadata": {},
   "source": [
    "Like this we can defeine more than one value"
   ]
  },
  {
   "cell_type": "code",
   "execution_count": 9,
   "id": "11e4190f-318d-4f19-91a9-a1a7e1eb5045",
   "metadata": {},
   "outputs": [
    {
     "data": {
      "text/plain": [
       "7"
      ]
     },
     "execution_count": 9,
     "metadata": {},
     "output_type": "execute_result"
    }
   ],
   "source": [
    "len(l)"
   ]
  },
  {
   "cell_type": "code",
   "execution_count": 11,
   "id": "a9797513-0b04-4fa9-b46d-fff145fb6b02",
   "metadata": {},
   "outputs": [
    {
     "data": {
      "text/plain": [
       "[10, 20, 30, 2.3, (1+2j), True, 'nit', 10, 10]"
      ]
     },
     "execution_count": 11,
     "metadata": {},
     "output_type": "execute_result"
    }
   ],
   "source": [
    "l.append(10)\n",
    "l\n"
   ]
  },
  {
   "cell_type": "code",
   "execution_count": 12,
   "id": "447494df-702a-4660-987b-4d6e37dc64a3",
   "metadata": {},
   "outputs": [
    {
     "data": {
      "text/plain": [
       "9"
      ]
     },
     "execution_count": 12,
     "metadata": {},
     "output_type": "execute_result"
    }
   ],
   "source": [
    "len(l)"
   ]
  },
  {
   "cell_type": "raw",
   "id": "16f9b2d9-4c3a-48c6-8880-9d9c3bc2d69b",
   "metadata": {},
   "source": [
    "REMOVE FUNCTION"
   ]
  },
  {
   "cell_type": "code",
   "execution_count": 13,
   "id": "9124e093-6cee-459b-a967-8e7f709265ad",
   "metadata": {},
   "outputs": [
    {
     "data": {
      "text/plain": [
       "[20, 30, 2.3, (1+2j), True, 'nit', 10, 10]"
      ]
     },
     "execution_count": 13,
     "metadata": {},
     "output_type": "execute_result"
    }
   ],
   "source": [
    "l.remove(10)\n",
    "l"
   ]
  },
  {
   "cell_type": "code",
   "execution_count": null,
   "id": "5c034301-c376-4aa0-8632-ea148dec916c",
   "metadata": {},
   "outputs": [],
   "source": [
    "1. The remove function will remove the value of first occurance.\n",
    "2. It means it will remove the first number of same number.\n",
    "3. in the ablove as you can see the first 10 is missing as there are duplicates."
   ]
  },
  {
   "cell_type": "code",
   "execution_count": 15,
   "id": "96036440-9d39-4900-a1d7-1fe3f1309144",
   "metadata": {},
   "outputs": [
    {
     "data": {
      "text/plain": [
       "[20, 30, 2.3, (1+2j), True, 'nit', 10]"
      ]
     },
     "execution_count": 15,
     "metadata": {},
     "output_type": "execute_result"
    }
   ],
   "source": [
    "l.remove(10)\n",
    "l"
   ]
  },
  {
   "cell_type": "raw",
   "id": "3655c570-1e83-424a-b6fe-55bf7175f9dd",
   "metadata": {},
   "source": [
    "COPY FUNCTION"
   ]
  },
  {
   "cell_type": "code",
   "execution_count": 18,
   "id": "2d932a41-386a-4766-a760-73dd88ba702f",
   "metadata": {},
   "outputs": [
    {
     "data": {
      "text/plain": [
       "[20, 30, 2.3, (1+2j), True, 'nit', 10]"
      ]
     },
     "execution_count": 18,
     "metadata": {},
     "output_type": "execute_result"
    }
   ],
   "source": [
    "l"
   ]
  },
  {
   "cell_type": "code",
   "execution_count": 20,
   "id": "52ec2619-e647-4d2f-8021-1b355bbd05cf",
   "metadata": {},
   "outputs": [
    {
     "data": {
      "text/plain": [
       "[20, 30, 2.3, (1+2j), True, 'nit', 10]"
      ]
     },
     "execution_count": 20,
     "metadata": {},
     "output_type": "execute_result"
    }
   ],
   "source": [
    "l1 = l.copy()\n",
    "l1"
   ]
  },
  {
   "cell_type": "code",
   "execution_count": null,
   "id": "4ce2a2f6-6b47-49f7-b959-6632073bfa3e",
   "metadata": {},
   "outputs": [],
   "source": [
    "1. The copy function allow us to copy from one variable to nother new variable\n",
    "2. When you are copying the exisiting varaible, you must create\n",
    "   a new varialbe to paste the copied element\n",
    "   For example: if l= 20,30,40 and you create new varaile\n",
    "   like l1 = l.copy() the output result shows as above"
   ]
  },
  {
   "cell_type": "code",
   "execution_count": 22,
   "id": "0ef90304-76b4-48a8-a962-3b1ddc7ec7f1",
   "metadata": {},
   "outputs": [
    {
     "data": {
      "text/plain": [
       "True"
      ]
     },
     "execution_count": 22,
     "metadata": {},
     "output_type": "execute_result"
    }
   ],
   "source": [
    "l == l1"
   ]
  },
  {
   "cell_type": "code",
   "execution_count": null,
   "id": "62019dfc-bae0-486a-a061-d8a5878dbf4a",
   "metadata": {},
   "outputs": [],
   "source": [
    "1. To compare two list you use equalto = operator\n",
    "2. Since two varialbe have same element it is showing True"
   ]
  },
  {
   "cell_type": "raw",
   "id": "f63b24b4-7c76-471d-b524-d5c628645163",
   "metadata": {},
   "source": [
    "COUNT FUNCTION"
   ]
  },
  {
   "cell_type": "code",
   "execution_count": 24,
   "id": "5ee89e3d-34c9-4f57-a820-0c7155b059ca",
   "metadata": {},
   "outputs": [
    {
     "data": {
      "text/plain": [
       "[20, 30, 2.3, (1+2j), True, 'nit', 10]"
      ]
     },
     "execution_count": 24,
     "metadata": {},
     "output_type": "execute_result"
    }
   ],
   "source": [
    "l"
   ]
  },
  {
   "cell_type": "code",
   "execution_count": 25,
   "id": "398e586a-e2a1-4a8a-99ab-658de0d8d65a",
   "metadata": {},
   "outputs": [
    {
     "data": {
      "text/plain": [
       "1"
      ]
     },
     "execution_count": 25,
     "metadata": {},
     "output_type": "execute_result"
    }
   ],
   "source": [
    "l.count(20)"
   ]
  },
  {
   "cell_type": "code",
   "execution_count": 39,
   "id": "166ec73a-ee69-4b8f-8d2a-b810780b767e",
   "metadata": {},
   "outputs": [
    {
     "data": {
      "text/plain": [
       "[30, 2.3, (1+2j), True, 'nit', 10, 20, 20, 20]"
      ]
     },
     "execution_count": 39,
     "metadata": {},
     "output_type": "execute_result"
    }
   ],
   "source": [
    "l.append(20)\n",
    "l\n"
   ]
  },
  {
   "cell_type": "code",
   "execution_count": 42,
   "id": "a6b1341e-0e33-4731-8fa6-34483dae8e17",
   "metadata": {},
   "outputs": [
    {
     "data": {
      "text/plain": [
       "1"
      ]
     },
     "execution_count": 42,
     "metadata": {},
     "output_type": "execute_result"
    }
   ],
   "source": [
    "l.count(20)\n",
    "1"
   ]
  },
  {
   "cell_type": "code",
   "execution_count": null,
   "id": "da6c9422-2e01-4622-8818-e7ddd83662f8",
   "metadata": {},
   "outputs": [],
   "source": [
    "1. This count  fucntion is used to check, how many times \n",
    "    the same value is repeating\n",
    "\n",
    "2. In the above output 20 is  not repeating that is why it showing as 1\n",
    "\n",
    "3. If the value is repating again the count function will\n",
    "   show the number of times of repeating."
   ]
  },
  {
   "cell_type": "code",
   "execution_count": 26,
   "id": "3c6ac85a-67b5-4e7c-9251-dcc06ac853db",
   "metadata": {},
   "outputs": [
    {
     "data": {
      "text/plain": [
       "[20, 30, 2.3, (1+2j), True, 'nit', 10]"
      ]
     },
     "execution_count": 26,
     "metadata": {},
     "output_type": "execute_result"
    }
   ],
   "source": [
    "l[:]"
   ]
  },
  {
   "cell_type": "code",
   "execution_count": 27,
   "id": "4d6da6d8-97f0-4b6a-a5ea-f168c717300b",
   "metadata": {},
   "outputs": [
    {
     "data": {
      "text/plain": [
       "True"
      ]
     },
     "execution_count": 27,
     "metadata": {},
     "output_type": "execute_result"
    }
   ],
   "source": [
    "l[4]"
   ]
  },
  {
   "cell_type": "code",
   "execution_count": 37,
   "id": "6de917f7-4c33-4729-933f-f9578daa620b",
   "metadata": {},
   "outputs": [
    {
     "data": {
      "text/plain": [
       "[30, 2.3, (1+2j), True, 'nit', 10, 20, 20]"
      ]
     },
     "execution_count": 37,
     "metadata": {},
     "output_type": "execute_result"
    }
   ],
   "source": [
    "l"
   ]
  },
  {
   "cell_type": "markdown",
   "id": "16506559-bdee-4656-9bb8-d7dddecc1950",
   "metadata": {},
   "source": [
    "# END OF SESSION "
   ]
  },
  {
   "cell_type": "markdown",
   "id": "12e837e2-87df-4dab-a7e5-71adae03f8d6",
   "metadata": {},
   "source": [
    "# 27-10-2024 SUNDAY NO CLASS"
   ]
  },
  {
   "cell_type": "markdown",
   "id": "8b652c5f-25ec-44b1-ac97-a3665f2e0743",
   "metadata": {},
   "source": [
    "# 28-10-2024"
   ]
  },
  {
   "cell_type": "raw",
   "id": "de90f4e7-f9ed-44be-b188-85a8251f58ba",
   "metadata": {},
   "source": [
    "CLEAR FUNCTION"
   ]
  },
  {
   "cell_type": "code",
   "execution_count": 45,
   "id": "f0329e8c-b869-420c-9f04-4286dbe69edc",
   "metadata": {},
   "outputs": [
    {
     "data": {
      "text/plain": [
       "[]"
      ]
     },
     "execution_count": 45,
     "metadata": {},
     "output_type": "execute_result"
    }
   ],
   "source": [
    "l2 =[]\n",
    "l2"
   ]
  },
  {
   "cell_type": "code",
   "execution_count": 46,
   "id": "dc245a4d-10fa-4a2b-9472-ab0322654723",
   "metadata": {},
   "outputs": [
    {
     "data": {
      "text/plain": [
       "[1, 2.3, True, (1+2j), 'nit']"
      ]
     },
     "execution_count": 46,
     "metadata": {},
     "output_type": "execute_result"
    }
   ],
   "source": [
    "l2.append(1)\n",
    "l2.append(2.3)\n",
    "l2.append(True)\n",
    "l2.append(1+2j)\n",
    "l2.append('nit')\n",
    "l2\n"
   ]
  },
  {
   "cell_type": "code",
   "execution_count": 47,
   "id": "516574b9-ec2a-4f7a-9b89-f25b52d494d0",
   "metadata": {},
   "outputs": [
    {
     "data": {
      "text/plain": [
       "[1, 2.3, True, (1+2j), 'nit']"
      ]
     },
     "execution_count": 47,
     "metadata": {},
     "output_type": "execute_result"
    }
   ],
   "source": [
    "l3=l2.copy()\n",
    "l3"
   ]
  },
  {
   "cell_type": "code",
   "execution_count": 51,
   "id": "9bcee4c0-0763-4a5e-b21d-bf2dd20022c4",
   "metadata": {},
   "outputs": [
    {
     "data": {
      "text/plain": [
       "5"
      ]
     },
     "execution_count": 51,
     "metadata": {},
     "output_type": "execute_result"
    }
   ],
   "source": [
    "len(l3)\n",
    "    "
   ]
  },
  {
   "cell_type": "code",
   "execution_count": 53,
   "id": "240d7d76-10aa-4b91-8b5b-5923b2697454",
   "metadata": {},
   "outputs": [
    {
     "data": {
      "text/plain": [
       "[]"
      ]
     },
     "execution_count": 53,
     "metadata": {},
     "output_type": "execute_result"
    }
   ],
   "source": [
    "l3.clear()\n",
    "l3"
   ]
  },
  {
   "cell_type": "code",
   "execution_count": 54,
   "id": "adbb77bc-4a9f-4245-8ff5-20cb6714b144",
   "metadata": {},
   "outputs": [
    {
     "data": {
      "text/plain": [
       "0"
      ]
     },
     "execution_count": 54,
     "metadata": {},
     "output_type": "execute_result"
    }
   ],
   "source": [
    "len(l3)"
   ]
  },
  {
   "cell_type": "code",
   "execution_count": 58,
   "id": "7496a379-a6a6-4955-b219-553a3bc3c662",
   "metadata": {},
   "outputs": [
    {
     "ename": "NameError",
     "evalue": "name 'l3' is not defined",
     "output_type": "error",
     "traceback": [
      "\u001b[1;31m---------------------------------------------------------------------------\u001b[0m",
      "\u001b[1;31mNameError\u001b[0m                                 Traceback (most recent call last)",
      "Cell \u001b[1;32mIn[58], line 1\u001b[0m\n\u001b[1;32m----> 1\u001b[0m \u001b[38;5;28;01mdel\u001b[39;00m l3\n",
      "\u001b[1;31mNameError\u001b[0m: name 'l3' is not defined"
     ]
    }
   ],
   "source": [
    "del l3"
   ]
  },
  {
   "cell_type": "code",
   "execution_count": null,
   "id": "0c1e48e7-3e94-45b3-8242-4ce7518b3dde",
   "metadata": {},
   "outputs": [],
   "source": [
    "1. When you copy or create new varailbe and you want to remove \n",
    "    or clear the varialbe after you copy   \n",
    "    for that we use clear function.\n",
    "\n",
    "2. once the varialbe is cleared the length of the varialbe\n",
    "    is shown as zero, since we have cleared \n",
    "    that varaible  from the system memory. "
   ]
  },
  {
   "cell_type": "code",
   "execution_count": 59,
   "id": "2c24469f-2378-4d55-b247-473a4593bbba",
   "metadata": {},
   "outputs": [
    {
     "data": {
      "text/plain": [
       "[1, 2.3, True, (1+2j), 'nit']"
      ]
     },
     "execution_count": 59,
     "metadata": {},
     "output_type": "execute_result"
    }
   ],
   "source": [
    "l2"
   ]
  },
  {
   "cell_type": "code",
   "execution_count": 60,
   "id": "7ecdf2ab-0bbc-47e8-ae66-1786ca4549fb",
   "metadata": {},
   "outputs": [
    {
     "data": {
      "text/plain": [
       "[1, True, (1+2j), 'nit']"
      ]
     },
     "execution_count": 60,
     "metadata": {},
     "output_type": "execute_result"
    }
   ],
   "source": [
    "l2.remove(2.3)\n",
    "l2"
   ]
  },
  {
   "cell_type": "code",
   "execution_count": 61,
   "id": "924f6428-dc00-49ad-8c96-8ab94a77920a",
   "metadata": {},
   "outputs": [
    {
     "data": {
      "text/plain": [
       "[1, True, (1+2j), 'nit']"
      ]
     },
     "execution_count": 61,
     "metadata": {},
     "output_type": "execute_result"
    }
   ],
   "source": [
    "l2"
   ]
  },
  {
   "cell_type": "raw",
   "id": "030e3a46-92da-4731-ba79-af4d674b6ea5",
   "metadata": {},
   "source": [
    "EXTEND FUNCTION"
   ]
  },
  {
   "cell_type": "code",
   "execution_count": 64,
   "id": "e3c7d3ba-7905-44a2-94b2-efeb18e2c8fc",
   "metadata": {},
   "outputs": [
    {
     "data": {
      "text/plain": [
       "[]"
      ]
     },
     "execution_count": 64,
     "metadata": {},
     "output_type": "execute_result"
    }
   ],
   "source": [
    "l3=[]\n",
    "l3"
   ]
  },
  {
   "cell_type": "code",
   "execution_count": 72,
   "id": "1d7933b0-bbc8-46cd-8101-32bfa5b2e61b",
   "metadata": {},
   "outputs": [
    {
     "data": {
      "text/plain": [
       "[10]"
      ]
     },
     "execution_count": 72,
     "metadata": {},
     "output_type": "execute_result"
    }
   ],
   "source": [
    "l3.append(10)\n",
    "l3"
   ]
  },
  {
   "cell_type": "code",
   "execution_count": 73,
   "id": "43ca31d9-cc6e-4995-bc5d-32ea1cf63d01",
   "metadata": {},
   "outputs": [
    {
     "data": {
      "text/plain": [
       "[1, True, (1+2j), 'nit']"
      ]
     },
     "execution_count": 73,
     "metadata": {},
     "output_type": "execute_result"
    }
   ],
   "source": [
    "l2"
   ]
  },
  {
   "cell_type": "code",
   "execution_count": 75,
   "id": "c6957cc9-5bbb-4217-98bc-603ee417eb2a",
   "metadata": {},
   "outputs": [
    {
     "data": {
      "text/plain": [
       "[10, 1, True, (1+2j), 'nit', 1, True, (1+2j), 'nit']"
      ]
     },
     "execution_count": 75,
     "metadata": {},
     "output_type": "execute_result"
    }
   ],
   "source": [
    "l3.extend(l2)\n",
    "l3"
   ]
  },
  {
   "cell_type": "code",
   "execution_count": null,
   "id": "8b0fe96c-6a48-49d5-bd0e-0348cd86c6c0",
   "metadata": {},
   "outputs": [],
   "source": [
    "1. The extend fuction is used for to add values from another varaible\n",
    "2. AS you can see above for l3 varaivle i have extend values from l2 variable.\n",
    "3. It helps the merges both the variable values.\n",
    "4. Technically it is called as concatenation or extended.                                      "
   ]
  },
  {
   "cell_type": "raw",
   "id": "b4704bdf-b879-427f-bdce-c3649a98acb4",
   "metadata": {},
   "source": [
    "INDEX FUNCTION"
   ]
  },
  {
   "cell_type": "code",
   "execution_count": 76,
   "id": "f93b9c12-dd15-4338-b02d-e2cc89d7d90f",
   "metadata": {},
   "outputs": [
    {
     "data": {
      "text/plain": [
       "[10, 1, True, (1+2j), 'nit', 1, True, (1+2j), 'nit']"
      ]
     },
     "execution_count": 76,
     "metadata": {},
     "output_type": "execute_result"
    }
   ],
   "source": [
    "l3"
   ]
  },
  {
   "cell_type": "code",
   "execution_count": 77,
   "id": "ae077dfc-8cdb-4bdc-b240-1ac14269330c",
   "metadata": {},
   "outputs": [
    {
     "data": {
      "text/plain": [
       "3"
      ]
     },
     "execution_count": 77,
     "metadata": {},
     "output_type": "execute_result"
    }
   ],
   "source": [
    "l3.index(1+2j)"
   ]
  },
  {
   "cell_type": "code",
   "execution_count": null,
   "id": "b8fa964c-9eae-40dd-926e-095fe792d4f5",
   "metadata": {},
   "outputs": [],
   "source": [
    "1. The above output showing as 3 beacuse of the index function\n",
    "\n",
    "2. The index function is used to know the value position \n",
    "   For example: in the above code l3 is having values as follows\n",
    "\n",
    " VALUE     10,  1,  True,  (1+2j),  'nit',   1,   True,  (1+2j), 'nit'\n",
    " INDEX      0   1     2       3        4     5     6       7       8\n",
    "\n",
    "When you write a code to fine the index of (1+2j) \n",
    "the out put shows as 4 because it is coming in 4th order.\n",
    "\n",
    "\n",
    "\n",
    "\n",
    "   "
   ]
  },
  {
   "cell_type": "code",
   "execution_count": 78,
   "id": "f4aef57f-ca02-489a-8323-2f2513521289",
   "metadata": {},
   "outputs": [
    {
     "data": {
      "text/plain": [
       "[1, True, (1+2j), 'nit']"
      ]
     },
     "execution_count": 78,
     "metadata": {},
     "output_type": "execute_result"
    }
   ],
   "source": [
    "l2"
   ]
  },
  {
   "cell_type": "code",
   "execution_count": 80,
   "id": "32c92b29-373b-4d5b-97c2-a3efaeca9c0a",
   "metadata": {},
   "outputs": [
    {
     "data": {
      "text/plain": [
       "3"
      ]
     },
     "execution_count": 80,
     "metadata": {},
     "output_type": "execute_result"
    }
   ],
   "source": [
    "l2.index('nit')"
   ]
  },
  {
   "cell_type": "raw",
   "id": "f58173d9-204d-4384-8c03-612dd87d6ad3",
   "metadata": {},
   "source": [
    "INSERT FUNCTION"
   ]
  },
  {
   "cell_type": "code",
   "execution_count": 82,
   "id": "ed233af5-0154-4343-a30b-17aee4438f3a",
   "metadata": {},
   "outputs": [
    {
     "data": {
      "text/plain": [
       "[1, True, (1+2j), 'nit']"
      ]
     },
     "execution_count": 82,
     "metadata": {},
     "output_type": "execute_result"
    }
   ],
   "source": [
    "l2"
   ]
  },
  {
   "cell_type": "code",
   "execution_count": 85,
   "id": "27facd7a-2182-4f63-adab-79edd9424950",
   "metadata": {},
   "outputs": [
    {
     "data": {
      "text/plain": [
       "[1, True, 'False', (1+2j), 'False', 'nit']"
      ]
     },
     "execution_count": 85,
     "metadata": {},
     "output_type": "execute_result"
    }
   ],
   "source": [
    "l2.insert(2, 'False')\n",
    "l2"
   ]
  },
  {
   "cell_type": "code",
   "execution_count": null,
   "id": "e1ed8513-7df4-4b00-ae94-6f4c4882f107",
   "metadata": {},
   "outputs": [],
   "source": [
    "1. The insert function allows us to add value for the exsiting varailbe\n",
    "2. if you want add any element in the exisitng varailbe, you need to choose the index postion after that \n",
    "   specific element. \n",
    "\n",
    " In the above output i have false that has to appreaed after true \n",
    " so in code i enter 2. false,\n",
    " Because 2 is refering the element after  true. \n",
    "\n",
    "3. In insert function we always pass two arguments"
   ]
  },
  {
   "cell_type": "raw",
   "id": "6bc61725-fcf8-4ed0-8a45-2e1ed9353a18",
   "metadata": {},
   "source": [
    "POP  FUNCTION"
   ]
  },
  {
   "cell_type": "code",
   "execution_count": 86,
   "id": "a95ead1d-4bf8-464e-a263-337647ba7cf8",
   "metadata": {},
   "outputs": [
    {
     "data": {
      "text/plain": [
       "[10, 1, True, (1+2j), 'nit', 1, True, (1+2j), 'nit']"
      ]
     },
     "execution_count": 86,
     "metadata": {},
     "output_type": "execute_result"
    }
   ],
   "source": [
    "l3"
   ]
  },
  {
   "cell_type": "code",
   "execution_count": 87,
   "id": "6afcd119-dd62-4516-bb56-27e1e03716c9",
   "metadata": {},
   "outputs": [
    {
     "data": {
      "text/plain": [
       "'nit'"
      ]
     },
     "execution_count": 87,
     "metadata": {},
     "output_type": "execute_result"
    }
   ],
   "source": [
    "l3.pop()"
   ]
  },
  {
   "cell_type": "code",
   "execution_count": 88,
   "id": "f65b0231-4771-4276-8485-a010e942ca39",
   "metadata": {},
   "outputs": [
    {
     "data": {
      "text/plain": [
       "[10, 1, True, (1+2j), 'nit', 1, True, (1+2j)]"
      ]
     },
     "execution_count": 88,
     "metadata": {},
     "output_type": "execute_result"
    }
   ],
   "source": [
    "l3"
   ]
  },
  {
   "cell_type": "code",
   "execution_count": null,
   "id": "9db4a94d-915c-49dd-8286-b9c1ed8851db",
   "metadata": {},
   "outputs": [],
   "source": [
    "1. The pop function with only empty bracjets will  remove the \n",
    "    last element by default as you can see in the above function.\n",
    "\n",
    "2. If you want to remove any specific element then we need to enter\n",
    "   index position number inside the bracket, as you can see below.\n"
   ]
  },
  {
   "cell_type": "code",
   "execution_count": 89,
   "id": "8bbb7cf8-8907-4cd7-8035-96ebae38b6a5",
   "metadata": {},
   "outputs": [
    {
     "data": {
      "text/plain": [
       "[10, 1, True, (1+2j), 'nit', 1, True, (1+2j)]"
      ]
     },
     "execution_count": 89,
     "metadata": {},
     "output_type": "execute_result"
    }
   ],
   "source": [
    "l3"
   ]
  },
  {
   "cell_type": "code",
   "execution_count": 90,
   "id": "df1323e5-89b9-451d-a6bb-fa485bf96b3c",
   "metadata": {},
   "outputs": [
    {
     "data": {
      "text/plain": [
       "[10, 1, (1+2j), 'nit', 1, True, (1+2j)]"
      ]
     },
     "execution_count": 90,
     "metadata": {},
     "output_type": "execute_result"
    }
   ],
   "source": [
    "l3.pop(2)\n",
    "l3"
   ]
  },
  {
   "cell_type": "raw",
   "id": "c322bdc2-1f3d-4d71-b16e-8f929ba71d4a",
   "metadata": {},
   "source": [
    "SORT FUNCTION"
   ]
  },
  {
   "cell_type": "code",
   "execution_count": 91,
   "id": "3c3ddfb2-ea5b-41e1-b1b8-42f17494a5f1",
   "metadata": {},
   "outputs": [
    {
     "data": {
      "text/plain": [
       "[10, 100, 3, 45, 76, 24]"
      ]
     },
     "execution_count": 91,
     "metadata": {},
     "output_type": "execute_result"
    }
   ],
   "source": [
    "l4=[10,100,3,45,76,24]\n",
    "l4"
   ]
  },
  {
   "cell_type": "code",
   "execution_count": 92,
   "id": "6ff147f3-93a0-47bd-993e-b68c8371a4f9",
   "metadata": {},
   "outputs": [
    {
     "data": {
      "text/plain": [
       "[3, 10, 24, 45, 76, 100]"
      ]
     },
     "execution_count": 92,
     "metadata": {},
     "output_type": "execute_result"
    }
   ],
   "source": [
    "l4.sort()\n",
    "l4"
   ]
  },
  {
   "cell_type": "code",
   "execution_count": 94,
   "id": "b27095ba-f74c-426c-bfc1-5d178db04620",
   "metadata": {},
   "outputs": [
    {
     "data": {
      "text/plain": [
       "[100, 76, 45, 24, 10, 3]"
      ]
     },
     "execution_count": 94,
     "metadata": {},
     "output_type": "execute_result"
    }
   ],
   "source": [
    "l4.sort(reverse=True)\n",
    "l4"
   ]
  },
  {
   "cell_type": "code",
   "execution_count": null,
   "id": "c8327283-222d-4283-8770-445a60a65003",
   "metadata": {},
   "outputs": [],
   "source": [
    "1. The  sort function is used put the value in the asending order,\n",
    "    when you enter only empty brackets it will default show in ascending order.\n",
    " \n",
    "2. To get the value in descending order you need to write reserve=true  \n",
    "\n",
    "3.  To sort the string also we use same as above\n",
    "\n",
    "4. The sort fuction is not possible for the combinaton of numeric and alphbatic, "
   ]
  },
  {
   "cell_type": "code",
   "execution_count": 95,
   "id": "6d5cdae3-1115-4d65-a6fa-df5e686b577f",
   "metadata": {},
   "outputs": [
    {
     "data": {
      "text/plain": [
       "['z', 'm', 'c', 'w']"
      ]
     },
     "execution_count": 95,
     "metadata": {},
     "output_type": "execute_result"
    }
   ],
   "source": [
    "l5= ['z', 'm', 'c', 'w']\n",
    "l5"
   ]
  },
  {
   "cell_type": "code",
   "execution_count": 96,
   "id": "4e847465-9d39-4c79-8c49-bf7655e0757c",
   "metadata": {},
   "outputs": [
    {
     "data": {
      "text/plain": [
       "['c', 'm', 'w', 'z']"
      ]
     },
     "execution_count": 96,
     "metadata": {},
     "output_type": "execute_result"
    }
   ],
   "source": [
    "l5.sort()\n",
    "l5"
   ]
  },
  {
   "cell_type": "raw",
   "id": "d9ea3cbc-38be-4c43-a096-8ff87857d1ee",
   "metadata": {},
   "source": [
    "REVERSE FUNCTION"
   ]
  },
  {
   "cell_type": "code",
   "execution_count": 98,
   "id": "eca23f20-7f77-41d2-976a-ad5223b0d97f",
   "metadata": {},
   "outputs": [
    {
     "data": {
      "text/plain": [
       "[10, 1, (1+2j), 'nit', 1, True, (1+2j)]"
      ]
     },
     "execution_count": 98,
     "metadata": {},
     "output_type": "execute_result"
    }
   ],
   "source": [
    "l3"
   ]
  },
  {
   "cell_type": "code",
   "execution_count": 101,
   "id": "670575b3-f8f2-4211-b2de-707e8f14836c",
   "metadata": {},
   "outputs": [
    {
     "data": {
      "text/plain": [
       "[(1+2j), True, 1, 'nit', (1+2j), 1, 10]"
      ]
     },
     "execution_count": 101,
     "metadata": {},
     "output_type": "execute_result"
    }
   ],
   "source": [
    "l3.reverse()\n",
    "l3"
   ]
  },
  {
   "cell_type": "raw",
   "id": "cceabf25-62d4-4129-bd89-907ebfc18350",
   "metadata": {},
   "source": [
    "NESTED LIST"
   ]
  },
  {
   "cell_type": "code",
   "execution_count": null,
   "id": "3ab0f0ed-ce05-4781-a23e-79b7079436e1",
   "metadata": {},
   "outputs": [],
   "source": [
    "1. When we use two square brackets between the brackets is\n",
    "   called as nested list \n",
    "2. Nested list only works on string"
   ]
  },
  {
   "cell_type": "code",
   "execution_count": 18,
   "id": "986a22d5-8f8a-4592-8d23-0a87f5a34664",
   "metadata": {},
   "outputs": [
    {
     "data": {
      "text/plain": [
       "[1, True, 'False', (1+2j), 'False', 'nit']"
      ]
     },
     "execution_count": 18,
     "metadata": {},
     "output_type": "execute_result"
    }
   ],
   "source": [
    "l2= [1, True, 'False', (1+2j), 'False', 'nit']\n",
    "l2"
   ]
  },
  {
   "cell_type": "code",
   "execution_count": 107,
   "id": "5fb5c003-517e-4efb-8735-f8c2b96a9f37",
   "metadata": {},
   "outputs": [
    {
     "data": {
      "text/plain": [
       "'False'"
      ]
     },
     "execution_count": 107,
     "metadata": {},
     "output_type": "execute_result"
    }
   ],
   "source": [
    "l2[2] # 2 is index postion of false"
   ]
  },
  {
   "cell_type": "code",
   "execution_count": 108,
   "id": "dfe981db-e21d-4ff2-b680-54e8a81a2e8d",
   "metadata": {},
   "outputs": [
    {
     "name": "stdout",
     "output_type": "stream",
     "text": [
      "F\n",
      "a\n",
      "l\n",
      "s\n",
      "e\n"
     ]
    }
   ],
   "source": [
    "print(l2[2][0])\n",
    "print(l2[2][1])\n",
    "print(l2[2][2])\n",
    "print(l2[2][3])\n",
    "print(l2[2][4])"
   ]
  },
  {
   "cell_type": "code",
   "execution_count": null,
   "id": "62bcb731-6839-4cf9-8666-93fc19da8f97",
   "metadata": {},
   "outputs": [],
   "source": [
    "1. The reverse function is nused to reverse the value as you can see above."
   ]
  },
  {
   "cell_type": "raw",
   "id": "ef7b2be3-2d6b-4374-bc0b-51d9dd67b17b",
   "metadata": {},
   "source": [
    "INFORMATION"
   ]
  },
  {
   "cell_type": "code",
   "execution_count": null,
   "id": "857e802f-7556-4f24-b39b-6a351c45d226",
   "metadata": {},
   "outputs": [],
   "source": [
    "1. append:    is used to add the element at last"
   ]
  },
  {
   "cell_type": "code",
   "execution_count": null,
   "id": "95c59195-0018-49d2-9c58-94b40f412edf",
   "metadata": {},
   "outputs": [],
   "source": [
    "2. clear:     is used to clear the element from the list"
   ]
  },
  {
   "cell_type": "code",
   "execution_count": null,
   "id": "c40d8336-df13-471b-9a9a-cdc7ca8a38ad",
   "metadata": {},
   "outputs": [],
   "source": [
    "3. copy:      is used to copy from one list to another list"
   ]
  },
  {
   "cell_type": "code",
   "execution_count": null,
   "id": "28cb83c6-8315-4dc4-bd7c-c07bda714dcd",
   "metadata": {},
   "outputs": [],
   "source": [
    "4. count:     is used to count the lenght of the element"
   ]
  },
  {
   "cell_type": "code",
   "execution_count": null,
   "id": "c7ccbae6-0da6-4aa1-9372-030297eb014e",
   "metadata": {},
   "outputs": [],
   "source": [
    "5. extend:    is used to extend the value or merging \n",
    "              between two variables"
   ]
  },
  {
   "cell_type": "code",
   "execution_count": null,
   "id": "2a17eb49-3ac7-411a-a059-fb6944fc9391",
   "metadata": {},
   "outputs": [],
   "source": [
    "6. index:      is used to show the position  of the element "
   ]
  },
  {
   "cell_type": "code",
   "execution_count": null,
   "id": "440e2122-8125-4c2c-886b-f001ae55cdda",
   "metadata": {},
   "outputs": [],
   "source": [
    "7. insert:     is used to insert new element before the old element \n",
    "               or existing element"
   ]
  },
  {
   "cell_type": "code",
   "execution_count": null,
   "id": "8c2e1309-f737-4789-a9ff-a55b5c842613",
   "metadata": {},
   "outputs": [],
   "source": [
    "8. pop:        is used to remove the element from index level \n",
    "               (by deafult last element)"
   ]
  },
  {
   "cell_type": "code",
   "execution_count": null,
   "id": "b0ec9f16-391f-4a50-8298-3c921abe7bb7",
   "metadata": {},
   "outputs": [],
   "source": [
    "9. reverse:    is used to reversing the list "
   ]
  },
  {
   "cell_type": "code",
   "execution_count": null,
   "id": "18e9c1cb-1f2a-428a-a41e-ea292a83b00f",
   "metadata": {},
   "outputs": [],
   "source": [
    "10.sort:      is used to  put the elemtns in numercial or alphbetical order"
   ]
  },
  {
   "cell_type": "markdown",
   "id": "90600bbb-682a-44f2-8856-2a3365e945f0",
   "metadata": {},
   "source": [
    "# MUTABLE FUNCTION "
   ]
  },
  {
   "cell_type": "code",
   "execution_count": null,
   "id": "3fb330fa-3800-4f3e-bfba-0c34c781bbab",
   "metadata": {},
   "outputs": [],
   "source": [
    "1. The mutable function is used to replace or change the existing element.\n",
    "2. There are two types of mutable\n",
    "    1) Mutable or Hasahble\n",
    "    2) immutable or unhashable"
   ]
  },
  {
   "cell_type": "code",
   "execution_count": 12,
   "id": "28b4693f-a985-4aa1-9806-7204da87def1",
   "metadata": {},
   "outputs": [
    {
     "data": {
      "text/plain": [
       "['technology', 2.3, 10, (1+2j)]"
      ]
     },
     "execution_count": 12,
     "metadata": {},
     "output_type": "execute_result"
    }
   ],
   "source": [
    "l2= ['technology', 2.3, 10, 1+2j]\n",
    "l2"
   ]
  },
  {
   "cell_type": "code",
   "execution_count": 13,
   "id": "dc83fc08-e42a-4164-9065-42e87d2e9a86",
   "metadata": {},
   "outputs": [
    {
     "data": {
      "text/plain": [
       "['technology', 2.3, 3.2, (1+2j)]"
      ]
     },
     "execution_count": 13,
     "metadata": {},
     "output_type": "execute_result"
    }
   ],
   "source": [
    "l2[2] = 3.2\n",
    "l2"
   ]
  },
  {
   "cell_type": "code",
   "execution_count": null,
   "id": "e3296300-09cc-4921-86b5-9cc30a9018f3",
   "metadata": {},
   "outputs": [],
   "source": [
    "1. The above is showing output replacing 10 as 3.2 beacause, \n",
    "    in the above we have entered index postion and \n",
    "    the element what we need to replace."
   ]
  },
  {
   "cell_type": "code",
   "execution_count": 14,
   "id": "9119e4ac-bc1c-465c-95d7-52e79653c356",
   "metadata": {},
   "outputs": [
    {
     "data": {
      "text/plain": [
       "['technology', 2.3, 3.2, (1+2j)]"
      ]
     },
     "execution_count": 14,
     "metadata": {},
     "output_type": "execute_result"
    }
   ],
   "source": [
    "l2"
   ]
  },
  {
   "cell_type": "code",
   "execution_count": 15,
   "id": "df0b2d34-2808-45d2-a876-c6dfb95ba161",
   "metadata": {},
   "outputs": [
    {
     "name": "stdout",
     "output_type": "stream",
     "text": [
      "technology\n",
      "2.3\n",
      "3.2\n",
      "(1+2j)\n"
     ]
    }
   ],
   "source": [
    "for i in l2:\n",
    "    print(i)"
   ]
  },
  {
   "cell_type": "code",
   "execution_count": 16,
   "id": "614b3854-b11b-4b98-9b04-b710729dabaa",
   "metadata": {},
   "outputs": [
    {
     "name": "stdout",
     "output_type": "stream",
     "text": [
      "<class 'complex'>\n"
     ]
    }
   ],
   "source": [
    "print(type(i))"
   ]
  },
  {
   "cell_type": "code",
   "execution_count": null,
   "id": "de030d7b-88b7-4f7b-87a8-fe1a6da35379",
   "metadata": {},
   "outputs": [],
   "source": [
    "1. The above diplaying the output in stragint line, or in a loop,\n",
    "   for this we need to   write code as above\n",
    "\n",
    "2. when you use semi coloun : and hit the enter by default it takes 4 spaces. \n",
    "    This is called as   \"INDENTATION\" \n",
    "\n",
    "3. By default indenttation takes 4 spaces ."
   ]
  },
  {
   "cell_type": "code",
   "execution_count": 20,
   "id": "bdafa81e-d1b6-439d-a801-fb0bcb443842",
   "metadata": {},
   "outputs": [
    {
     "data": {
      "text/plain": [
       "(['sbi', 'icici'], ['hdfc', 'kotak'])"
      ]
     },
     "execution_count": 20,
     "metadata": {},
     "output_type": "execute_result"
    }
   ],
   "source": [
    "l6=['sbi', 'icici']\n",
    "l7=['hdfc', 'kotak']\n",
    "\n",
    "l6,l7\n"
   ]
  },
  {
   "cell_type": "code",
   "execution_count": null,
   "id": "19cb7eba-439e-4994-bf87-cba41b94a1ab",
   "metadata": {},
   "outputs": [],
   "source": [
    "1. To merge both of the above strings, we need to create new variable \n",
    "   and add them like below"
   ]
  },
  {
   "cell_type": "code",
   "execution_count": 21,
   "id": "dc6fe5d2-8618-431b-8f9e-32b33e1db1b9",
   "metadata": {},
   "outputs": [
    {
     "data": {
      "text/plain": [
       "['sbi', 'icici', 'hdfc', 'kotak']"
      ]
     },
     "execution_count": 21,
     "metadata": {},
     "output_type": "execute_result"
    }
   ],
   "source": [
    "family_bank= (l6+l7)\n",
    "family_bank"
   ]
  },
  {
   "cell_type": "code",
   "execution_count": 23,
   "id": "7ad7bae4-99bb-4479-b892-bf5cd6fca2f3",
   "metadata": {},
   "outputs": [
    {
     "data": {
      "text/plain": [
       "[1, True, 'False', (1+2j), 'False', 'nit']"
      ]
     },
     "execution_count": 23,
     "metadata": {},
     "output_type": "execute_result"
    }
   ],
   "source": [
    "l2"
   ]
  },
  {
   "cell_type": "code",
   "execution_count": 24,
   "id": "e904dfe4-7d4b-4fa2-9bbe-b29871231b91",
   "metadata": {},
   "outputs": [
    {
     "name": "stdout",
     "output_type": "stream",
     "text": [
      "(0, 1)\n",
      "(1, True)\n",
      "(2, 'False')\n",
      "(3, (1+2j))\n",
      "(4, 'False')\n",
      "(5, 'nit')\n"
     ]
    }
   ],
   "source": [
    "for i in enumerate (l2):\n",
    "    print(i)                # this is the code we use to find the index postion or paid element"
   ]
  },
  {
   "cell_type": "code",
   "execution_count": 26,
   "id": "2ec2abf8-a635-410b-a2c0-11fb9d2b0ca5",
   "metadata": {},
   "outputs": [
    {
     "data": {
      "text/plain": [
       "[20, 30, 2.3, (1+2j), True, 'nit', 20]"
      ]
     },
     "execution_count": 26,
     "metadata": {},
     "output_type": "execute_result"
    }
   ],
   "source": [
    "l=[20, 30, 2.3, 1+2j, True, 'nit', 20]\n",
    "l"
   ]
  },
  {
   "cell_type": "code",
   "execution_count": 27,
   "id": "971bf089-3ff4-4644-baf2-3af3a6b68f2d",
   "metadata": {},
   "outputs": [
    {
     "data": {
      "text/plain": [
       "[20, 30, 2.3, (1+2j), True, 'nit', 20]"
      ]
     },
     "execution_count": 27,
     "metadata": {},
     "output_type": "execute_result"
    }
   ],
   "source": [
    "l[:]\n",
    "l"
   ]
  },
  {
   "cell_type": "code",
   "execution_count": 31,
   "id": "71ff0892-0720-4eb9-9681-dd566326eacd",
   "metadata": {},
   "outputs": [
    {
     "data": {
      "text/plain": [
       "[20, 30, 2.3, (1+2j), True, 'nit', 20]"
      ]
     },
     "execution_count": 31,
     "metadata": {},
     "output_type": "execute_result"
    }
   ],
   "source": [
    "l"
   ]
  },
  {
   "cell_type": "code",
   "execution_count": 32,
   "id": "ec0fb678-1a03-4bcf-b77d-b80365bd5fa6",
   "metadata": {},
   "outputs": [
    {
     "data": {
      "text/plain": [
       "[20, 'nit', True, (1+2j), 2.3, 30, 20]"
      ]
     },
     "execution_count": 32,
     "metadata": {},
     "output_type": "execute_result"
    }
   ],
   "source": [
    "l[:: -1]\n"
   ]
  },
  {
   "cell_type": "code",
   "execution_count": 33,
   "id": "79454049-ec62-4594-9b27-348196f357df",
   "metadata": {},
   "outputs": [
    {
     "data": {
      "text/plain": [
       "[20, 30, 2.3, (1+2j), True, 'nit', 20]"
      ]
     },
     "execution_count": 33,
     "metadata": {},
     "output_type": "execute_result"
    }
   ],
   "source": [
    "l"
   ]
  },
  {
   "cell_type": "code",
   "execution_count": 35,
   "id": "416a5c41-6dee-4a75-a70b-4065227a6bf8",
   "metadata": {},
   "outputs": [
    {
     "data": {
      "text/plain": [
       "[20, True, 2.3, 20]"
      ]
     },
     "execution_count": 35,
     "metadata": {},
     "output_type": "execute_result"
    }
   ],
   "source": [
    "l[:: -2]\n"
   ]
  },
  {
   "cell_type": "code",
   "execution_count": 36,
   "id": "964b5689-0a19-43ae-aa2c-b918a0a71d7c",
   "metadata": {},
   "outputs": [
    {
     "data": {
      "text/plain": [
       "[20, 30, 2.3, (1+2j), True, 'nit', 20]"
      ]
     },
     "execution_count": 36,
     "metadata": {},
     "output_type": "execute_result"
    }
   ],
   "source": [
    "l"
   ]
  },
  {
   "cell_type": "code",
   "execution_count": 38,
   "id": "2bd2f94c-59c8-4dd3-8ceb-45ed05788ad8",
   "metadata": {},
   "outputs": [
    {
     "ename": "IndexError",
     "evalue": "list index out of range",
     "output_type": "error",
     "traceback": [
      "\u001b[1;31m---------------------------------------------------------------------------\u001b[0m",
      "\u001b[1;31mIndexError\u001b[0m                                Traceback (most recent call last)",
      "Cell \u001b[1;32mIn[38], line 1\u001b[0m\n\u001b[1;32m----> 1\u001b[0m l[\u001b[38;5;241m17\u001b[39m]\n",
      "\u001b[1;31mIndexError\u001b[0m: list index out of range"
     ]
    }
   ],
   "source": [
    "l[17]"
   ]
  },
  {
   "cell_type": "code",
   "execution_count": 39,
   "id": "6de0958f-a97f-4c37-8775-3a874d7f70c0",
   "metadata": {},
   "outputs": [
    {
     "data": {
      "text/plain": [
       "[20, 30, 2.3, (1+2j), True, 'nit', 20]"
      ]
     },
     "execution_count": 39,
     "metadata": {},
     "output_type": "execute_result"
    }
   ],
   "source": [
    "l"
   ]
  },
  {
   "cell_type": "code",
   "execution_count": 40,
   "id": "4d7f6f97-18ea-4cc0-aa72-aad3577405ec",
   "metadata": {},
   "outputs": [
    {
     "data": {
      "text/plain": [
       "[2.3, (1+2j), True, 'nit', 20]"
      ]
     },
     "execution_count": 40,
     "metadata": {},
     "output_type": "execute_result"
    }
   ],
   "source": [
    "l[2:] # it print the element from 2nd index to till last, bacuse we havent\n",
    "      #  metioned any end value"
   ]
  },
  {
   "cell_type": "code",
   "execution_count": 41,
   "id": "3e0c505f-291c-48f7-b83a-b028ddbbe32c",
   "metadata": {},
   "outputs": [
    {
     "data": {
      "text/plain": [
       "[20, 30, 2.3, (1+2j), True, 'nit', 20]"
      ]
     },
     "execution_count": 41,
     "metadata": {},
     "output_type": "execute_result"
    }
   ],
   "source": [
    "l"
   ]
  },
  {
   "cell_type": "code",
   "execution_count": 42,
   "id": "475f2eed-237a-4be4-beaa-97e8dc3b9156",
   "metadata": {},
   "outputs": [
    {
     "data": {
      "text/plain": [
       "[20, 30]"
      ]
     },
     "execution_count": 42,
     "metadata": {},
     "output_type": "execute_result"
    }
   ],
   "source": [
    "l[:2] # left side we mentioned : so it takes first elemnet by deafult,\n",
    "      # end we mentond till 2  means  (n-1) 2-1=1"
   ]
  },
  {
   "cell_type": "code",
   "execution_count": 43,
   "id": "e8d8b33e-199e-4eac-b185-c10b0e083650",
   "metadata": {},
   "outputs": [
    {
     "data": {
      "text/plain": [
       "[20, 30, 2.3, (1+2j), True, 'nit', 20]"
      ]
     },
     "execution_count": 43,
     "metadata": {},
     "output_type": "execute_result"
    }
   ],
   "source": [
    "l"
   ]
  },
  {
   "cell_type": "code",
   "execution_count": 44,
   "id": "35532d3a-6647-432a-9022-86a11d2d5b0a",
   "metadata": {},
   "outputs": [
    {
     "data": {
      "text/plain": [
       "[20, 30, 2.3, (1+2j), True, 'nit', 20]"
      ]
     },
     "execution_count": 44,
     "metadata": {},
     "output_type": "execute_result"
    }
   ],
   "source": [
    "l[:7]"
   ]
  },
  {
   "cell_type": "code",
   "execution_count": 45,
   "id": "652cccd1-425b-4d1b-9578-58bba5d910d0",
   "metadata": {},
   "outputs": [
    {
     "data": {
      "text/plain": [
       "[20, 30, 2.3, (1+2j), True, 'nit', 20]"
      ]
     },
     "execution_count": 45,
     "metadata": {},
     "output_type": "execute_result"
    }
   ],
   "source": [
    "l"
   ]
  },
  {
   "cell_type": "raw",
   "id": "371b904d-7b19-4f63-afbf-20a1116198eb",
   "metadata": {},
   "source": [
    "ADVANCE SLICING"
   ]
  },
  {
   "cell_type": "code",
   "execution_count": 46,
   "id": "eaaa44e7-9a56-4c4a-93f5-d2eced060b9c",
   "metadata": {},
   "outputs": [
    {
     "data": {
      "text/plain": [
       "[20, (1+2j), 20]"
      ]
     },
     "execution_count": 46,
     "metadata": {},
     "output_type": "execute_result"
    }
   ],
   "source": [
    "l[0:7:3]"
   ]
  },
  {
   "cell_type": "code",
   "execution_count": null,
   "id": "7939a2be-1a82-406f-b3ac-e9e64b684022",
   "metadata": {},
   "outputs": [],
   "source": [
    "In the above code\n",
    "\n",
    "1. 0 means starting index, if dont give any number systen defaults takes\n",
    "   starting number\n",
    "\n",
    "2. 7 means last index or till that index, but we need to minus 1 form 7 because right side index is \n",
    "    always n-i means 7-1=6\n",
    "\n",
    "3. 3 means step  we need to eliminate 3 elemnnts till last index\n",
    "   what we mentioned."
   ]
  },
  {
   "cell_type": "markdown",
   "id": "76b4453a-a5ab-46fc-995a-203cb08762fe",
   "metadata": {},
   "source": [
    "# END OF SESSION "
   ]
  }
 ],
 "metadata": {
  "kernelspec": {
   "display_name": "Python 3 (ipykernel)",
   "language": "python",
   "name": "python3"
  },
  "language_info": {
   "codemirror_mode": {
    "name": "ipython",
    "version": 3
   },
   "file_extension": ".py",
   "mimetype": "text/x-python",
   "name": "python",
   "nbconvert_exporter": "python",
   "pygments_lexer": "ipython3",
   "version": "3.12.4"
  }
 },
 "nbformat": 4,
 "nbformat_minor": 5
}
